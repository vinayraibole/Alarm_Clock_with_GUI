{
 "cells": [
  {
   "cell_type": "markdown",
   "id": "3a0303b4",
   "metadata": {},
   "source": [
    "# Importing required libraries for alarm clock"
   ]
  },
  {
   "cell_type": "markdown",
   "id": "25fbedfb",
   "metadata": {},
   "source": [
    "### Pygame can be an alternative to winsound library for mac users"
   ]
  },
  {
   "cell_type": "code",
   "execution_count": 17,
   "id": "93547e25",
   "metadata": {},
   "outputs": [],
   "source": [
    "# pip install pygame"
   ]
  },
  {
   "cell_type": "code",
   "execution_count": 18,
   "id": "e9d9aaaf",
   "metadata": {},
   "outputs": [
    {
     "name": "stdout",
     "output_type": "stream",
     "text": [
      "pygame 2.1.2 (SDL 2.0.18, Python 3.9.7)\n",
      "Hello from the pygame community. https://www.pygame.org/contribute.html\n"
     ]
    }
   ],
   "source": [
    "import datetime\n",
    "import time\n",
    "import pygame"
   ]
  },
  {
   "cell_type": "markdown",
   "id": "5631a2d6",
   "metadata": {},
   "source": [
    "# Intializing tkinter window"
   ]
  },
  {
   "cell_type": "code",
   "execution_count": 19,
   "id": "cf31cf33",
   "metadata": {},
   "outputs": [
    {
     "data": {
      "text/plain": [
       "''"
      ]
     },
     "execution_count": 19,
     "metadata": {},
     "output_type": "execute_result"
    }
   ],
   "source": [
    "from tkinter import *\n",
    "clock = Tk()\n",
    "clock.geometry('400x200')\n",
    "clock.title('Alarm Clock')"
   ]
  },
  {
   "cell_type": "markdown",
   "id": "04bf1553",
   "metadata": {},
   "source": [
    "# Initializing alarm sound"
   ]
  },
  {
   "cell_type": "code",
   "execution_count": 20,
   "id": "dd4efad6",
   "metadata": {},
   "outputs": [],
   "source": [
    "pygame.init()\n",
    "pygame.mixer.init()\n",
    "sounda = pygame.mixer.Sound(\"./Assets/Slowmorning.mp3\")\n",
    "# sounda.play()"
   ]
  },
  {
   "cell_type": "markdown",
   "id": "2f11a6ae",
   "metadata": {},
   "source": [
    "# Defining the alarm funtion"
   ]
  },
  {
   "cell_type": "code",
   "execution_count": 21,
   "id": "ebd3ebe9",
   "metadata": {},
   "outputs": [],
   "source": [
    "#When user gives the input check every second if the current time is equal to the time user entered. \n",
    "#When the times match play the alarm sound.\n",
    "\n",
    "def alarm(set_alarm_timer):\n",
    "    while True:\n",
    "        time.sleep(1)\n",
    "        current_time = datetime.datetime.now()\n",
    "        now = current_time.strftime('%H:%M:%S')\n",
    "        date = current_time.strftime('%d/%m/%Y')\n",
    "        print('The Set Date is: ',date)\n",
    "        print(now)\n",
    "        if now == set_alarm_timer:\n",
    "            print('Time to Wake up!')\n",
    "            sounda.play()"
   ]
  },
  {
   "cell_type": "markdown",
   "id": "2a847c1b",
   "metadata": {},
   "source": [
    "# Defining a function to format the time entered by user and passing it to alarm function"
   ]
  },
  {
   "cell_type": "code",
   "execution_count": 22,
   "id": "bbf8942b",
   "metadata": {},
   "outputs": [],
   "source": [
    "def actual_time():\n",
    "    if len(hour.get()) == 2 and len(mins.get()) == 2 and len(sec.get()) == 2:\n",
    "        set_alarm_time = f\"{hour.get()}:{mins.get()}:{sec.get()}\"\n",
    "        alarm(set_alarm_time)\n",
    "    else:\n",
    "        Label(clock, text = 'Please enter the correct time in HH MM SS format!', fg = 'red', bg = 'white', font = 'Arial').place(x = 70,y=55)"
   ]
  },
  {
   "cell_type": "code",
   "execution_count": 23,
   "id": "bfa07773",
   "metadata": {},
   "outputs": [],
   "source": [
    "time_format = Label(clock, text = 'Enter time in 24 Hour format!',\n",
    "                   fg = 'red', bg = 'black', font = 'Arial').place(x=60,y=120)\n",
    "\n",
    "addTime = Label(clock, text = 'HOUR MINS SECONDS', font = 60).place(x=110)\n",
    "\n",
    "setYourAlarm = Label(clock, text = 'When to wake up?',\n",
    "                    fg = 'blue', relief = 'solid', font = ('Helvetica',10,'bold')).place(x=0, y=29)"
   ]
  },
  {
   "cell_type": "code",
   "execution_count": 24,
   "id": "d94bc81d",
   "metadata": {},
   "outputs": [],
   "source": [
    "hour = StringVar()\n",
    "mins = StringVar()\n",
    "sec = StringVar()"
   ]
  },
  {
   "cell_type": "code",
   "execution_count": 25,
   "id": "16ef3efb",
   "metadata": {},
   "outputs": [],
   "source": [
    "hourTime = Entry(clock, textvariable = hour, bg = 'pink', width = 15).place(x=110, y =30)\n",
    "minTime = Entry(clock, textvariable = mins, bg = 'pink', width = 15).place(x=150, y =30)\n",
    "secTime = Entry(clock, textvariable = sec, bg = 'pink', width = 15).place(x=200, y =30)"
   ]
  },
  {
   "cell_type": "code",
   "execution_count": 26,
   "id": "8366fc70",
   "metadata": {},
   "outputs": [],
   "source": [
    "submit = Button(clock, text = 'Set Alarm',\n",
    "               fg = 'red', width = 10, command = actual_time).place(x=110, y=70)"
   ]
  },
  {
   "cell_type": "code",
   "execution_count": null,
   "id": "516b89ac",
   "metadata": {},
   "outputs": [
    {
     "name": "stdout",
     "output_type": "stream",
     "text": [
      "The Set Date is:  14/10/2022\n",
      "16:36:57\n",
      "The Set Date is:  14/10/2022\n",
      "16:36:58\n",
      "The Set Date is:  14/10/2022\n",
      "16:36:59\n",
      "The Set Date is:  14/10/2022\n",
      "16:37:00\n",
      "Time to Wake up!\n",
      "The Set Date is:  14/10/2022\n",
      "16:37:01\n",
      "The Set Date is:  14/10/2022\n",
      "16:37:02\n",
      "The Set Date is:  14/10/2022\n",
      "16:37:03\n",
      "The Set Date is:  14/10/2022\n",
      "16:37:04\n",
      "The Set Date is:  14/10/2022\n",
      "16:37:05\n",
      "The Set Date is:  14/10/2022\n",
      "16:37:06\n",
      "The Set Date is:  14/10/2022\n",
      "16:37:07\n"
     ]
    }
   ],
   "source": [
    "clock.mainloop()"
   ]
  },
  {
   "cell_type": "code",
   "execution_count": null,
   "id": "60927a8c",
   "metadata": {},
   "outputs": [],
   "source": []
  }
 ],
 "metadata": {
  "kernelspec": {
   "display_name": "Python 3 (ipykernel)",
   "language": "python",
   "name": "python3"
  },
  "language_info": {
   "codemirror_mode": {
    "name": "ipython",
    "version": 3
   },
   "file_extension": ".py",
   "mimetype": "text/x-python",
   "name": "python",
   "nbconvert_exporter": "python",
   "pygments_lexer": "ipython3",
   "version": "3.9.7"
  }
 },
 "nbformat": 4,
 "nbformat_minor": 5
}
